{
 "cells": [
  {
   "cell_type": "code",
   "execution_count": 12,
   "id": "4bf1cb30",
   "metadata": {},
   "outputs": [],
   "source": [
    "from tkinter import * \n",
    "def chance():\n",
    "    gram = float(kg.get()) * 1000\n",
    "    gram_1.configure(text = gram)\n",
    "    pound = float(kg.get()) * 2.20462\n",
    "    pound_1.configure(text = pound)\n",
    "    ounce = float(kg.get()) * 35.274\n",
    "    ounce_1.configure(text = ounce)\n",
    "\n",
    "\n",
    "app = Tk()\n",
    "app.geometry(\"400x300\")\n",
    "app.configure(bg='light grey')\n",
    "enter_label = Label(app, text = \"Enter the weight in Kg: \")\n",
    "\n",
    "gram_label = Label(app, text = \"Gram\")\n",
    "\n",
    "pounds_label = Label(app, text = \"Pounds\")\n",
    "\n",
    "ounce_label = Label(app, text = \"Ounce\")\n",
    "\n",
    "kg = Entry(app)\n",
    "\n",
    "covert_button = Button(app, text=\"Convert\", command = chance)\n",
    "\n",
    "gram_1 = Label(app, text = \"Gram\")\n",
    "\n",
    "pound_1 = Label(app, text = \"Pounds\")\n",
    "\n",
    "ounce_1 = Label(app, text = \"Ounce\")\n",
    "\n",
    "enter_label.grid(column = 1, row = 0)\n",
    "kg.grid(column = 2, row = 0)\n",
    "covert_button.grid(column = 3, row = 0)\n",
    "gram_label.grid(column = 1, row = 1)\n",
    "pounds_label.grid(column = 2, row = 1)\n",
    "ounce_label.grid(column = 3, row = 1)\n",
    "gram_1.grid(column = 1, row = 2)\n",
    "pound_1.grid(column = 2, row = 2)\n",
    "ounce_1.grid(column = 3, row = 2)\n",
    "\n",
    "\n",
    "app.mainloop()\n"
   ]
  }
 ],
 "metadata": {
  "kernelspec": {
   "display_name": "Python 3 (ipykernel)",
   "language": "python",
   "name": "python3"
  },
  "language_info": {
   "codemirror_mode": {
    "name": "ipython",
    "version": 3
   },
   "file_extension": ".py",
   "mimetype": "text/x-python",
   "name": "python",
   "nbconvert_exporter": "python",
   "pygments_lexer": "ipython3",
   "version": "3.10.0"
  }
 },
 "nbformat": 4,
 "nbformat_minor": 5
}
